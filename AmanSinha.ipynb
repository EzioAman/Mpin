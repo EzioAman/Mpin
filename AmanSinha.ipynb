{
 "cells": [
  {
   "cell_type": "markdown",
   "id": "4c97cfad-4878-421d-8f3b-d49c5e0c0ea7",
   "metadata": {},
   "source": [
    "## Part A\n",
    "### Assume that the MPIN is 4-digits. Write a program that suggests if the MPIN is a commonly used one."
   ]
  },
  {
   "cell_type": "code",
   "execution_count": 1,
   "id": "2528c7bf-cd95-4756-944f-d0d36e70c3ad",
   "metadata": {},
   "outputs": [],
   "source": [
    "import itertools\n",
    "from itertools import permutations"
   ]
  },
  {
   "cell_type": "markdown",
   "id": "adaef6ac-bd67-4e9b-9e01-868d02f48e6e",
   "metadata": {},
   "source": [
    "### Logic used\n",
    "* Created functions \"is_common()\" to catch common patterns of mpin.\n",
    "* Common pattern include- palindromes, repeted digitis, liner increase in digits, or easy to remember patterns\n",
    "* Function 'partA' tests the input mpins as either commonly used mpins or not commonly used pins."
   ]
  },
  {
   "cell_type": "code",
   "execution_count": 2,
   "id": "59a782f6-62ba-4582-8dd4-b27bd2ec9178",
   "metadata": {},
   "outputs": [],
   "source": [
    "def is_common(pin: str) -> bool:\n",
    "    if len(pin) == 4:\n",
    "        common = [ '0123', '1234', '4567', '7890', '5678']\n",
    "        return True if pin in common else False\n",
    "        \n",
    "    elif len(pin) == 6:\n",
    "        common = [\n",
    "                \"123456\",\n",
    "                \"000000\",\n",
    "                \"111111\",\n",
    "                \"121212\",\n",
    "                \"654321\",\n",
    "                \"112233\",\n",
    "                \"999999\",\n",
    "                \"123123\",\n",
    "                \"159753\",\n",
    "                \"111222\"\n",
    "        ]\n",
    "\n",
    "def is_palin(pin: str) -> bool:\n",
    "    return pin[::-1] == pin\n",
    "\n",
    "def is_repeated(pin: str) -> bool:\n",
    "    if int(pin[:2]) == int(pin[2:]) - 11 or int(pin[:2]) - 11 == int(pin[2:]): return True\n",
    "    return pin[:2] == pin[2:]"
   ]
  },
  {
   "cell_type": "code",
   "execution_count": 3,
   "id": "cf9be1f3-abf9-4709-992d-3ebe0763f53d",
   "metadata": {},
   "outputs": [],
   "source": [
    "def partA(pin: str) -> bool:\n",
    "    if is_common(pin) or is_palin(pin) or is_repeated(pin): print(\"It is a commonly used pin\")\n",
    "    else: print(\"It is not a commonly used pin\")\n",
    "    return True"
   ]
  },
  {
   "cell_type": "markdown",
   "id": "8591171e-1373-4e1d-85a5-bdb6baea1e56",
   "metadata": {},
   "source": [
    "## Part B\n",
    "### Enhance the above to take user’s demographics as input and provides an output\n",
    "* a. Strength: WEAK or STRONG"
   ]
  },
  {
   "cell_type": "markdown",
   "id": "b6800ec1-bc3b-4efa-92e0-48bd2e556d98",
   "metadata": {},
   "source": [
    "### Logic used\n",
    "* Created a hashmap (dictionary within dictionary) called months and assigned two keys-\n",
    "  1. Numeric representation of months\n",
    "  2. Number of days of the months\n",
    "* Created function called-\n",
    "  1. convert_month used to convert the input from Jan -> 01, Feb -> 02, and so on\n",
    "  2. returnArray used to return array with demographs if found any in the permutations or combinations, for the question in Part B, there is no need to return demographs hence array is not called.\n",
    "  3. generate_all_pattern - Returns array/list, used to generate all possible set of patterns without repetation to check if mpin is formed with the current demograph\n",
    "  4. Function 'partB' tests the input mpins on conditions- commonly used mpins, demographs and returns WEAK or STRONG"
   ]
  },
  {
   "cell_type": "code",
   "execution_count": 4,
   "id": "3d15da20-c27e-4422-8794-7e6a7d550e77",
   "metadata": {},
   "outputs": [],
   "source": [
    "months = {\n",
    "    \"Jan\": {\"num\": \"01\", \"days\": 31},\n",
    "    \"Feb\": {\"num\": \"02\", \"days\": 28},\n",
    "    \"Mar\": {\"num\": \"03\", \"days\": 31},\n",
    "    \"Apr\": {\"num\": \"04\", \"days\": 30},\n",
    "    \"May\": {\"num\": \"05\", \"days\": 31},\n",
    "    \"Jun\": {\"num\": \"06\", \"days\": 30},\n",
    "    \"Jul\": {\"num\": \"07\", \"days\": 31},\n",
    "    \"Aug\": {\"num\": \"08\", \"days\": 31},\n",
    "    \"Sep\": {\"num\": \"09\", \"days\": 30},\n",
    "    \"Oct\": {\"num\": \"10\", \"days\": 31},\n",
    "    \"Nov\": {\"num\": \"11\", \"days\": 30},\n",
    "    \"Dec\": {\"num\": \"12\", \"days\": 31}\n",
    "}"
   ]
  },
  {
   "cell_type": "code",
   "execution_count": 5,
   "id": "ed074342-f941-439c-a6fd-a3ea33563081",
   "metadata": {},
   "outputs": [],
   "source": [
    "def convert_month(month: str) -> str:\n",
    "    month = month.strip().title()\n",
    "    if month not in months: return False\n",
    "    return months[month]['num']"
   ]
  },
  {
   "cell_type": "code",
   "execution_count": 6,
   "id": "618a1501-fa8e-4907-a50d-1529f42313f5",
   "metadata": {},
   "outputs": [],
   "source": [
    "def returnArray(pin: str, dob_self: list, dob_spouse: list, anniversary: list) -> list:\n",
    "    day_self, month_self, year_self = dob_self[0], convert_month(dob_self[1]), dob_self[2]\n",
    "    day_spouse, month_spouse, year_spouse = dob_spouse[0], convert_month(dob_spouse[1]), dob_spouse[2]\n",
    "    day_anni, month_anni, year_anni = anniversary[0], convert_month(anniversary[1]), anniversary[2]\n",
    "\n",
    "    arr = []\n",
    "    \n",
    "    self, spouse, anni, all_combined = [], [], [], []\n",
    "    self.append(day_self), self.append(month_self), self.append(year_self)\n",
    "    spouse.append(day_spouse), spouse.append(month_spouse), spouse.append(year_spouse)\n",
    "    anni.append(day_anni), anni.append(month_anni), anni.append(year_anni)\n",
    "    all_combined = [self, spouse, anni]\n",
    "\n",
    "    #single check\n",
    "    self_pattern = generate_all_pattern(self, len(pin))\n",
    "    spouse_pattern = generate_all_pattern(spouse, len(pin))\n",
    "    anni_pattern = generate_all_pattern(anni, len(pin))\n",
    "\n",
    "\n",
    "    #Demographs\n",
    "    if is_common(pin) or is_palin(pin) or is_repeated(pin):\n",
    "        arr.append(\"COMMONLY_USED\")\n",
    "    if pin in self_pattern:\n",
    "        arr.append(\"DEMOGRAPHIC_DOB_SELF\")\n",
    "    if pin in spouse_pattern:\n",
    "        arr.append(\"DEMOGRAPHIC_DOB_SPOUSE\")\n",
    "    if pin in anni_pattern:\n",
    "        arr.append(\"DEMOGRAPHIC_ANNIVERSARY\")\n",
    "    \n",
    "    arr = set(arr)\n",
    "    return list(arr)\n",
    "\n",
    "def generate_all_pattern(self: list, size: int) -> list:\n",
    "    if size == 4:\n",
    "        self[2] = self[2][-2:]\n",
    "        pattern = []\n",
    "        for i in permutations(self, 2):\n",
    "            if len(''.join(i)) == 4:\n",
    "                pattern.append(i)\n",
    "        pattern_string = [''.join(p) for p in pattern]\n",
    "        return list(set(pattern_string))\n",
    "\n",
    "    if size == 6:\n",
    "        l1 = self\n",
    "        strip_l1_year = l1[2][-2:]\n",
    "        new_l1 = l1 + [strip_l1_year]\n",
    "        pattern = []\n",
    "\n",
    "        for i in permutations(new_l1, 2):\n",
    "            if len(''.join(i)) == 6:\n",
    "                pattern.append(i)\n",
    "        for i in permutations(new_l1, 3):\n",
    "            if len(''.join(i)) == 6:\n",
    "                pattern.append(i)\n",
    "\n",
    "        pattern_string = list(set([''.join(p) for p in pattern]))\n",
    "        return list(set(pattern_string))"
   ]
  },
  {
   "cell_type": "markdown",
   "id": "d4fac949-c464-42d3-b253-68cf5098a920",
   "metadata": {},
   "source": [
    "### 4 Digit Mpin without demographics"
   ]
  },
  {
   "cell_type": "code",
   "execution_count": 7,
   "id": "12aa610e-ece8-43e2-a73c-93d7ebd8a921",
   "metadata": {
    "scrolled": true
   },
   "outputs": [],
   "source": [
    "def partB(pin, dob_self, dob_spouse, anniversary):\n",
    "    dob_self = dob_self.replace(\" \", \"\").split(\"-\")\n",
    "    dob_spouse = dob_spouse.replace(\" \", \"\").split(\"-\")\n",
    "    anniversary = anniversary.replace(\" \", \"\").replace(\" \", \"\").split(\"-\")\n",
    "    \n",
    "    test_for_4 = returnArray(pin, dob_self, dob_spouse, anniversary)\n",
    "    \n",
    "    if len(test_for_4) !=0: print(\"Strength: WEAK\")\n",
    "    else: print(\"Strength: STRONG\")"
   ]
  },
  {
   "cell_type": "markdown",
   "id": "4dcd9e6d-c852-41b4-bcbd-f8080973fd4f",
   "metadata": {},
   "source": [
    "## Part C\n",
    "### Enhance the above to provide the following outputs\n",
    "* a. Strength: WEAK or STRONG\n",
    "* b. If weak then the reason why was it considered weak: It should give from the following the reasons as an array.\n",
    "* Array should be empty if Strength is STRONG and non-empty if WEAK\n",
    "*  COMMONLY_USED\n",
    "*  DEMOGRAPHIC_DOB_SELF\n",
    "*  DEMOGRAPHIC_DOB_SPOUSE\n",
    "*  DEMOGRAPHIC_ANNIVERSARY"
   ]
  },
  {
   "cell_type": "markdown",
   "id": "ff065826-ec33-4d8e-ab64-ac2af43dd2de",
   "metadata": {},
   "source": [
    "### Logic used\n",
    "* Created function-\n",
    "  1. find_match_in_two - Returns True if the pattern is matched based on permutations of two demographs\n",
    "  2. find_match_in_three - Returns True if the pattern is matched based on permutations of three demographs\n",
    "  3. Function 'partC' tests the input mpins on conditions- commonly used mpins, demographs and returns WEAK or STRONG along with the name of the combinations of demographs used to form mpins"
   ]
  },
  {
   "cell_type": "code",
   "execution_count": 8,
   "id": "67993904-37b9-4c97-b4f3-e6554d13b9b8",
   "metadata": {},
   "outputs": [],
   "source": [
    "def return_array(pin: str, dob_self: list, dob_spouse: list, anniversary: list) -> list:\n",
    "    day_self, month_self, year_self = dob_self[0], convert_month(dob_self[1]), dob_self[2]\n",
    "    day_spouse, month_spouse, year_spouse = dob_spouse[0], convert_month(dob_spouse[1]), dob_spouse[2]\n",
    "    day_anni, month_anni, year_anni = anniversary[0], convert_month(anniversary[1]), anniversary[2]\n",
    "\n",
    "    arr = []\n",
    "    \n",
    "    self, spouse, anni = [], [], []\n",
    "    self.append(day_self), self.append(month_self), self.append(year_self)\n",
    "    spouse.append(day_spouse), spouse.append(month_spouse), spouse.append(year_spouse)\n",
    "    anni.append(day_anni), anni.append(month_anni), anni.append(year_anni)\n",
    "\n",
    "    #single check\n",
    "    self_pattern = generate_all_pattern(self, len(pin))\n",
    "    spouse_pattern = generate_all_pattern(spouse, len(pin))\n",
    "    anni_pattern = generate_all_pattern(anni, len(pin))\n",
    "\n",
    "    #double Check\n",
    "    self_spouse_pattern_double = find_match_in_two(self, spouse, pin, len(pin))\n",
    "    spouse_anni_pattern_double = find_match_in_two(spouse, anni, pin, len(pin))\n",
    "    anni_self_pattern_double = find_match_in_two(anni, self, pin, len(pin))\n",
    "\n",
    "    #triple check\n",
    "    self_pattern_triple = find_match_in_three(self, spouse, anni, pin, len(pin))\n",
    "\n",
    "    #Demographs\n",
    "\n",
    "    if is_common(pin) or is_palin(pin) or is_repeated(pin):\n",
    "        arr.append(\"COMMONLY_USED\")\n",
    "\n",
    "    if pin in self_pattern: #.......................................................................\n",
    "        arr.append(\"DEMOGRAPHIC_DOB_SELF\")\n",
    "    if pin in spouse_pattern:\n",
    "        arr.append(\"DEMOGRAPHIC_DOB_SPOUSE\")\n",
    "    if pin in anni_pattern:\n",
    "        arr.append(\"DEMOGRAPHIC_ANNIVERSARY\")\n",
    "\n",
    "    if self_spouse_pattern_double: #................................................................\n",
    "        #print(\"match found double 1\")\n",
    "        arr.append(\"DEMOGRAPHIC_DOB_SELF\")\n",
    "        arr.append(\"DEMOGRAPHIC_DOB_SPOUSE\")\n",
    "    if spouse_anni_pattern_double:\n",
    "        #print(\"match found double 2\")\n",
    "        arr.append(\"DEMOGRAPHIC_DOB_SPOUSE\")\n",
    "        arr.append(\"DEMOGRAPHIC_ANNIVERSARY\")\n",
    "    if anni_self_pattern_double:\n",
    "        #print(\"match found double 3\")\n",
    "        arr.append(\"DEMOGRAPHIC_ANNIVERSARY\")\n",
    "        arr.append(\"DEMOGRAPHIC_DOB_SELF\")\n",
    "    \n",
    "    if self_pattern_triple: #.........................................................................\n",
    "        #print(\"match found triple\")\n",
    "        arr.append(\"DEMOGRAPHIC_DOB_SELF\")\n",
    "        arr.append(\"DEMOGRAPHIC_DOB_SPOUSE\")\n",
    "        arr.append(\"DEMOGRAPHIC_ANNIVERSARY\")\n",
    "    \n",
    "    arr = set(arr)\n",
    "    return list(arr)\n",
    "\n",
    "def find_match_in_two(l1: list, l2: list, pin: str, size: int) -> bool:\n",
    "    if size == 6:\n",
    "        strip_l1_year = l1[2][-2:]\n",
    "        strip_l2_year = l2[2][-2:]\n",
    "        new_l1 = l1 + [strip_l1_year]\n",
    "        new_l2 = l2 + [strip_l2_year]\n",
    "\n",
    "        combined = new_l1 + new_l2\n",
    "        combination = []\n",
    "        \n",
    "        for p in permutations(combined, 2):\n",
    "            joined = ''.join(p)\n",
    "            if len(joined) == 6:\n",
    "                combination.append(joined)\n",
    "        for p in itertools.permutations(combined, 3):\n",
    "            joined = ''.join(p)\n",
    "            if len(joined) == 6:\n",
    "                combination.append(joined)\n",
    "        \n",
    "        \n",
    "        product = [''.join(c) for c in combination if len(''.join(c)) == 6]\n",
    "        product = list(set(product))\n",
    "    \n",
    "        if pin in set(combination): return True\n",
    "        return False\n",
    "    \n",
    "    if size == 4:\n",
    "        l1[2] = l1[2][-2:]\n",
    "        l2[2] = l2[2][-2:]\n",
    "        \n",
    "        combination1 = list(itertools.product(l1, l2))\n",
    "        combination2 = list(itertools.product(l2, l1))\n",
    "        combination = combination1 + combination2\n",
    "        product = [''.join(p) for p in combination]\n",
    "        product = list(set(product))\n",
    "        \n",
    "        if pin in product: return True\n",
    "        return False\n",
    "\n",
    "def find_match_in_three(l1: list, l2: list, l3: list, pin: str, size: int) -> bool:\n",
    "    if size == 6:\n",
    "        strip_l1_year = l1[2][-2:]\n",
    "        strip_l2_year = l2[2][-2:]\n",
    "        strip_l3_year = l3[2][-2:]\n",
    "        new_l1 = l1 + [strip_l1_year]\n",
    "        new_l2 = l2 + [strip_l2_year]\n",
    "        new_l3 = l3 + [strip_l3_year]\n",
    "        \n",
    "        combination1 = list(itertools.product(new_l1, new_l2, new_l3))\n",
    "        combination2 = list(itertools.product(new_l1, new_l3, new_l2))\n",
    "        combination3 = list(itertools.product(new_l2, new_l1, new_l3))\n",
    "        combination4 = list(itertools.product(new_l2, new_l3, new_l1))\n",
    "        combination5 = list(itertools.product(new_l3, new_l1, new_l2))\n",
    "        combination6 = list(itertools.product(new_l3, new_l2, new_l1))\n",
    "\n",
    "        combination = combination1 + combination2 + combination3 + combination4 + combination5 + combination6\n",
    "        product = [''.join(c) for c in combination if len(''.join(c)) == 6]\n",
    "        list(set(product))\n",
    "        if pin in product: return True\n",
    "        return False\n",
    "    return False"
   ]
  },
  {
   "cell_type": "markdown",
   "id": "876d606e-2f48-4097-a56d-7403ceda1f13",
   "metadata": {},
   "source": [
    "### Part C-4 digit with demographics"
   ]
  },
  {
   "cell_type": "code",
   "execution_count": 9,
   "id": "fbc7fc66-69e2-4cc3-bf19-2c466ec5a515",
   "metadata": {},
   "outputs": [],
   "source": [
    "def partC(pin: str, dob_self: str, dob_spouse: str, anniversary: str) -> bool:\n",
    "    dob_self = dob_self.replace(\" \", \"\").split(\"-\")\n",
    "    dob_spouse = dob_spouse.replace(\" \", \"\").split(\"-\")\n",
    "    anniversary = anniversary.replace(\" \", \"\").split(\"-\")\n",
    "\n",
    "    test_for_4 = return_array(pin, dob_self, dob_spouse, anniversary)\n",
    "\n",
    "    if len(test_for_4) != 0:\n",
    "        print(\"Strength: Weak\", test_for_4)\n",
    "    else:\n",
    "        print(\"Strength: Strong\", test_for_4)\n",
    "\n",
    "    return True"
   ]
  },
  {
   "cell_type": "markdown",
   "id": "48a591f4-d229-478c-97c7-ac0a089cb1d3",
   "metadata": {},
   "source": [
    "## Part D\n",
    "### Above with a 6-digit PIN"
   ]
  },
  {
   "cell_type": "markdown",
   "id": "5b97e9ef-f6f2-453c-86ea-828203346f29",
   "metadata": {},
   "source": [
    "### Logic used\n",
    "* updated earlier functions such that the input size for mpin become 6 digit.\n",
    "* Updated logical process in find_match_in_three and find_match_in_two such that permutations are formed using parts-\n",
    "  1. 2 part -> (day, year(last 4 digit)) , (month, year(last 4 digit), etc)\n",
    "  2. 3 part -> (day, month, year(last 2 digit))"
   ]
  },
  {
   "cell_type": "code",
   "execution_count": 10,
   "id": "8c920296-cc4d-4bd1-addb-67e37613528a",
   "metadata": {},
   "outputs": [],
   "source": [
    "def partD(pin: str, dob_self: str, dob_spouse: str, anniversary: str) -> bool:\n",
    "    dob_self = dob_self.replace(\" \", \"\").split(\"-\")\n",
    "    dob_spouse = dob_spouse.replace(\" \", \"\").split(\"-\")\n",
    "    anniversary = anniversary.replace(\" \", \"\").split(\"-\")\n",
    "    \n",
    "    test_for_6 = return_array(pin, dob_self, dob_spouse, anniversary)\n",
    "\n",
    "    if len(test_for_6) != 0:\n",
    "        print(\"Strength: Weak\", test_for_6)\n",
    "    else:\n",
    "        print(\"Strength: Strong\", test_for_6 )\n",
    "    \n",
    "    return True"
   ]
  },
  {
   "cell_type": "markdown",
   "id": "f83de9d8-62ba-428f-8474-dcd18e303b7e",
   "metadata": {},
   "source": [
    "## Test Cases"
   ]
  },
  {
   "cell_type": "markdown",
   "id": "5a70b206-2781-43f1-a915-ad0e662d81d7",
   "metadata": {},
   "source": [
    "### Part A - 20 Cases"
   ]
  },
  {
   "cell_type": "code",
   "execution_count": 11,
   "id": "eeafab20-96af-4e1c-a800-7115790fba02",
   "metadata": {},
   "outputs": [
    {
     "name": "stdout",
     "output_type": "stream",
     "text": [
      "It is a commonly used pin\n",
      "It is a commonly used pin\n",
      "It is not a commonly used pin\n",
      "It is a commonly used pin\n",
      "It is a commonly used pin\n",
      "It is not a commonly used pin\n",
      "It is a commonly used pin\n",
      "It is not a commonly used pin\n",
      "It is not a commonly used pin\n",
      "It is a commonly used pin\n",
      "It is not a commonly used pin\n",
      "It is not a commonly used pin\n",
      "It is a commonly used pin\n",
      "It is a commonly used pin\n",
      "It is a commonly used pin\n",
      "It is a commonly used pin\n",
      "It is not a commonly used pin\n",
      "It is not a commonly used pin\n",
      "It is a commonly used pin\n",
      "It is not a commonly used pin\n"
     ]
    }
   ],
   "source": [
    "mpin = [\"0000\", \"1234\", \"4321\", \"1111\", \"1212\", \"0007\", \"7890\", \"2468\", \"1357\", \"1122\", \"9876\", \"1023\", \"9999\", \"2110\", \"7788\", \"1221\", \"2308\", \"3456\", \"8080\", \"9091\"]\n",
    "for i in mpin:\n",
    "    partA(i)"
   ]
  },
  {
   "cell_type": "markdown",
   "id": "e964b145-f270-4f2a-9943-06f4855a3923",
   "metadata": {},
   "source": [
    "## Part B- 20 Cases"
   ]
  },
  {
   "cell_type": "code",
   "execution_count": 12,
   "id": "7b00e13a-837d-4343-957d-1556be0438a8",
   "metadata": {
    "scrolled": true
   },
   "outputs": [
    {
     "name": "stdout",
     "output_type": "stream",
     "text": [
      "Strength: WEAK\n",
      "Strength: WEAK\n",
      "Strength: STRONG\n",
      "Strength: WEAK\n",
      "Strength: WEAK\n",
      "Strength: STRONG\n",
      "Strength: WEAK\n",
      "Strength: STRONG\n",
      "Strength: STRONG\n",
      "Strength: WEAK\n",
      "Strength: STRONG\n",
      "Strength: STRONG\n",
      "Strength: WEAK\n",
      "Strength: WEAK\n",
      "Strength: WEAK\n",
      "Strength: WEAK\n",
      "Strength: STRONG\n",
      "Strength: STRONG\n",
      "Strength: WEAK\n",
      "Strength: STRONG\n"
     ]
    }
   ],
   "source": [
    "mpin = [\"0000\", \"1234\", \"4321\", \"1111\", \"1212\", \"0007\", \"7890\", \"2468\", \"1357\", \"1122\",\n",
    "        \"9876\", \"1023\", \"9999\", \"2110\", \"7788\", \"1221\", \"2308\", \"3456\", \"8080\", \"9091\"]\n",
    "\n",
    "dob_self = [\n",
    "    \"01-Jan-2000\", \"04-Apr-1990\", \"07-Jul-1988\", \"10-Oct-1975\", \"13-Jan-1960\",\n",
    "    \"16-Apr-2003\", \"19-Jul-2011\", \"22-Oct-1980\", \"25-Jan-1970\", \"28-Apr-1965\",\n",
    "    \"01-Jul-2001\", \"04-Oct-1999\", \"07-Jan-2005\", \"10-Apr-2010\", \"13-Jul-2013\",\n",
    "    \"16-Oct-2016\", \"19-Jan-2019\", \"22-Apr-2022\", \"25-Jul-2025\", \"28-Oct-2028\"\n",
    "]\n",
    "\n",
    "dob_spouse = [\n",
    "    \"02-Feb-2001\", \"05-May-1992\", \"08-Aug-1989\", \"11-Nov-1976\", \"14-Feb-1961\",\n",
    "    \"17-May-2004\", \"20-Aug-2012\", \"23-Nov-1981\", \"26-Feb-1971\", \"29-May-1966\",\n",
    "    \"02-Aug-2002\", \"05-Nov-2000\", \"08-Feb-2006\", \"11-May-2011\", \"14-Aug-2014\",\n",
    "    \"17-Nov-2017\", \"20-Feb-2020\", \"23-May-2023\", \"26-Aug-2026\", \"29-Nov-2029\"\n",
    "]\n",
    "\n",
    "anniversary = [\n",
    "    \"03-Mar-2010\", \"06-Jun-2015\", \"09-Sep-2000\", \"12-Dec-2005\", \"15-Mar-1999\",\n",
    "    \"18-Jun-2020\", \"21-Sep-2022\", \"24-Dec-2010\", \"27-Mar-1995\", \"30-Jun-1988\",\n",
    "    \"03-Sep-2021\", \"06-Dec-2023\", \"09-Mar-2010\", \"12-Jun-2012\", \"15-Sep-2015\",\n",
    "    \"18-Dec-2018\", \"21-Mar-2021\", \"24-Jun-2024\", \"27-Sep-2027\", \"30-Dec-2030\"\n",
    "]\n",
    "\n",
    "for i in range(len(mpin)):\n",
    "    partB(mpin[i], dob_self[i], dob_spouse[i], anniversary[i])"
   ]
  },
  {
   "cell_type": "markdown",
   "id": "832c9cc0-f56d-418c-b9e7-84224bf283aa",
   "metadata": {},
   "source": [
    "## Part C- 20 Cases"
   ]
  },
  {
   "cell_type": "code",
   "execution_count": 13,
   "id": "2049d87c-2f3a-4a53-9e52-fe2e906365c6",
   "metadata": {},
   "outputs": [
    {
     "name": "stdout",
     "output_type": "stream",
     "text": [
      "Strength: Weak ['COMMONLY_USED']\n",
      "Strength: Weak ['COMMONLY_USED']\n",
      "Strength: Strong []\n",
      "Strength: Weak ['COMMONLY_USED', 'DEMOGRAPHIC_DOB_SPOUSE']\n",
      "Strength: Weak ['COMMONLY_USED']\n",
      "Strength: Strong []\n",
      "Strength: Weak ['COMMONLY_USED']\n",
      "Strength: Strong []\n",
      "Strength: Strong []\n",
      "Strength: Weak ['COMMONLY_USED']\n",
      "Strength: Strong []\n",
      "Strength: Weak ['DEMOGRAPHIC_DOB_SELF', 'DEMOGRAPHIC_ANNIVERSARY']\n",
      "Strength: Weak ['COMMONLY_USED']\n",
      "Strength: Weak ['COMMONLY_USED']\n",
      "Strength: Weak ['COMMONLY_USED']\n",
      "Strength: Weak ['COMMONLY_USED']\n",
      "Strength: Strong []\n",
      "Strength: Strong []\n",
      "Strength: Weak ['COMMONLY_USED']\n",
      "Strength: Strong []\n"
     ]
    }
   ],
   "source": [
    "for i in range(len(mpin)):\n",
    "    partC(mpin[i], dob_self[i], dob_spouse[i], anniversary[i])"
   ]
  },
  {
   "cell_type": "markdown",
   "id": "822adbf9-f2d0-40e6-9ac1-f3a4cf27625c",
   "metadata": {},
   "source": [
    "## Part D- 20 Cases"
   ]
  },
  {
   "cell_type": "code",
   "execution_count": 14,
   "id": "83afaaf5-fe54-4774-81ef-081e9e2f281c",
   "metadata": {},
   "outputs": [
    {
     "name": "stdout",
     "output_type": "stream",
     "text": [
      "Strength: Weak ['DEMOGRAPHIC_DOB_SELF', 'DEMOGRAPHIC_DOB_SPOUSE']\n",
      "Strength: Weak ['DEMOGRAPHIC_DOB_SELF', 'DEMOGRAPHIC_DOB_SPOUSE']\n",
      "Strength: Weak ['DEMOGRAPHIC_DOB_SELF', 'DEMOGRAPHIC_DOB_SPOUSE']\n",
      "Strength: Weak ['DEMOGRAPHIC_DOB_SELF', 'DEMOGRAPHIC_DOB_SPOUSE']\n",
      "Strength: Weak ['DEMOGRAPHIC_DOB_SELF', 'DEMOGRAPHIC_DOB_SPOUSE']\n",
      "Strength: Weak ['DEMOGRAPHIC_DOB_SELF', 'DEMOGRAPHIC_ANNIVERSARY', 'DEMOGRAPHIC_DOB_SPOUSE']\n",
      "Strength: Weak ['DEMOGRAPHIC_DOB_SELF', 'DEMOGRAPHIC_DOB_SPOUSE']\n",
      "Strength: Weak ['DEMOGRAPHIC_DOB_SELF', 'DEMOGRAPHIC_ANNIVERSARY', 'DEMOGRAPHIC_DOB_SPOUSE']\n",
      "Strength: Weak ['DEMOGRAPHIC_DOB_SELF', 'DEMOGRAPHIC_ANNIVERSARY', 'DEMOGRAPHIC_DOB_SPOUSE']\n",
      "Strength: Weak ['DEMOGRAPHIC_DOB_SELF', 'DEMOGRAPHIC_ANNIVERSARY', 'DEMOGRAPHIC_DOB_SPOUSE']\n",
      "Strength: Weak ['DEMOGRAPHIC_DOB_SELF', 'DEMOGRAPHIC_DOB_SPOUSE']\n",
      "Strength: Weak ['DEMOGRAPHIC_DOB_SELF', 'DEMOGRAPHIC_ANNIVERSARY', 'DEMOGRAPHIC_DOB_SPOUSE']\n",
      "Strength: Weak ['DEMOGRAPHIC_DOB_SELF', 'DEMOGRAPHIC_ANNIVERSARY', 'DEMOGRAPHIC_DOB_SPOUSE']\n",
      "Strength: Weak ['DEMOGRAPHIC_DOB_SELF', 'DEMOGRAPHIC_ANNIVERSARY']\n",
      "Strength: Strong []\n",
      "Strength: Weak ['DEMOGRAPHIC_DOB_SELF', 'DEMOGRAPHIC_ANNIVERSARY']\n",
      "Strength: Weak ['DEMOGRAPHIC_DOB_SELF', 'DEMOGRAPHIC_ANNIVERSARY', 'DEMOGRAPHIC_DOB_SPOUSE']\n",
      "Strength: Weak ['DEMOGRAPHIC_DOB_SELF', 'DEMOGRAPHIC_ANNIVERSARY', 'DEMOGRAPHIC_DOB_SPOUSE']\n",
      "Strength: Strong []\n",
      "Strength: Weak ['DEMOGRAPHIC_DOB_SELF', 'DEMOGRAPHIC_ANNIVERSARY']\n"
     ]
    }
   ],
   "source": [
    "mpin = [\"010200\", \"040492\", \"078988\", \"101175\", \"136061\", \"160604\", \"190811\", \"221080\", \"251970\", \"280465\",\n",
    "        \"010802\", \"041099\", \"070105\", \"101210\", \"131313\", \"161618\", \"192021\", \"222423\", \"251725\", \"281230\"]\n",
    "\n",
    "for i in range(len(mpin)):\n",
    "    partD(mpin[i], dob_self[i], dob_spouse[i], anniversary[i])"
   ]
  }
 ],
 "metadata": {
  "kernelspec": {
   "display_name": "Python [conda env:base] *",
   "language": "python",
   "name": "conda-base-py"
  },
  "language_info": {
   "codemirror_mode": {
    "name": "ipython",
    "version": 3
   },
   "file_extension": ".py",
   "mimetype": "text/x-python",
   "name": "python",
   "nbconvert_exporter": "python",
   "pygments_lexer": "ipython3",
   "version": "3.12.7"
  }
 },
 "nbformat": 4,
 "nbformat_minor": 5
}
